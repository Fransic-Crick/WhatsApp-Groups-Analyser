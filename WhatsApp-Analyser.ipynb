{
 "cells": [
  {
   "cell_type": "code",
   "execution_count": 1,
   "metadata": {},
   "outputs": [],
   "source": [
    "import re\n",
    "import pandas as pd"
   ]
  },
  {
   "cell_type": "code",
   "execution_count": 2,
   "metadata": {},
   "outputs": [],
   "source": [
    "class ExtractDataFrame:\n",
    "    \n",
    "    '''\n",
    "    This module will help parsing the whatsapp chats data.\n",
    "        Parameters:\n",
    "            File_path (string): The path of the chats files\n",
    "        Functions:\n",
    "            load_file(object) -> File pointer\n",
    "            is_newEntry(object, string) -> Boolean\n",
    "    '''\n",
    "    \n",
    "    def __init__(self, file_path):\n",
    "        self.path = file_path\n",
    "        self.data = []\n",
    "        \n",
    "    def load_file(self):\n",
    "        '''\n",
    "        This function loads the chat file\n",
    "        '''\n",
    "        file = open(self.path, 'r', encoding='utf-8')\n",
    "        return file\n",
    "    \n",
    "    def is_newEntry(self, line: str) -> bool:\n",
    "        '''\n",
    "        This function returns if the line is a new message or continuation of the previous one\n",
    "        '''\n",
    "        date_time = '([0-9]+)(\\/)([0-9]+)(\\/)([0-9]+), ([0-9]+):([0-9]+)[ ]?(AM|PM|am|pm)? -'\n",
    "        test = re.match(date_time, line)\n",
    "        if test is not None:\n",
    "            return True\n",
    "        else:\n",
    "            return False\n",
    "    \n",
    "    def display(self):\n",
    "        f = self.load_file()\n",
    "        while True:\n",
    "            f.readline()\n",
    "            line = f.readline()\n",
    "            if not line:\n",
    "                break\n",
    "            if self.is_newEntry(line.strip()) is not True:\n",
    "                print()\n",
    "        f.close()"
   ]
  },
  {
   "cell_type": "code",
   "execution_count": null,
   "metadata": {},
   "outputs": [],
   "source": []
  }
 ],
 "metadata": {
  "kernelspec": {
   "display_name": "Python 3",
   "language": "python",
   "name": "python3"
  },
  "language_info": {
   "codemirror_mode": {
    "name": "ipython",
    "version": 3
   },
   "file_extension": ".py",
   "mimetype": "text/x-python",
   "name": "python",
   "nbconvert_exporter": "python",
   "pygments_lexer": "ipython3",
   "version": "3.7.6"
  }
 },
 "nbformat": 4,
 "nbformat_minor": 4
}
